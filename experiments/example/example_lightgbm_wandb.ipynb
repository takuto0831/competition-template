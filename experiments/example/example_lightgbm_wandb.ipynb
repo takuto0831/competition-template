{
 "cells": [
  {
   "cell_type": "code",
   "execution_count": 2,
   "id": "1a56c444",
   "metadata": {},
   "outputs": [
    {
     "name": "stderr",
     "output_type": "stream",
     "text": [
      "\u001b[34m\u001b[1mwandb\u001b[0m: Currently logged in as: \u001b[33mairspace_nobo\u001b[0m (\u001b[33mairspace_nobo8\u001b[0m) to \u001b[32mhttps://api.wandb.ai\u001b[0m. Use \u001b[1m`wandb login --relogin`\u001b[0m to force relogin\n"
     ]
    },
    {
     "data": {
      "text/plain": [
       "True"
      ]
     },
     "execution_count": 2,
     "metadata": {},
     "output_type": "execute_result"
    }
   ],
   "source": [
    "import wandb\n",
    "from dotenv import load_dotenv\n",
    "\n",
    "# .env ファイルから環境変数を読み込む\n",
    "load_dotenv()\n",
    "wandb.login()"
   ]
  },
  {
   "cell_type": "code",
   "execution_count": 3,
   "id": "4ff61391",
   "metadata": {},
   "outputs": [],
   "source": [
    "import os\n",
    "import random\n",
    "import numpy as np\n",
    "import pandas as pd\n",
    "import wandb\n",
    "from wandb.integration.lightgbm import log_summary, wandb_callback\n",
    "import lightgbm as lgb\n",
    "from sklearn.datasets import fetch_california_housing\n",
    "from sklearn.model_selection import train_test_split\n",
    "from sklearn.metrics import mean_squared_error\n"
   ]
  },
  {
   "cell_type": "code",
   "execution_count": 4,
   "id": "4342b667",
   "metadata": {},
   "outputs": [
    {
     "name": "stdout",
     "output_type": "stream",
     "text": [
      "wandb version: 0.21.0\n",
      "lightgbm version: 4.6.0\n"
     ]
    }
   ],
   "source": [
    "print(\"wandb version:\", wandb.__version__)\n",
    "print(\"lightgbm version:\", lgb.__version__)"
   ]
  },
  {
   "cell_type": "code",
   "execution_count": 7,
   "id": "49f99b98",
   "metadata": {},
   "outputs": [],
   "source": [
    "# Configクラスを定義\n",
    "class CFG:\n",
    "    exp_name = 'example_lightgbm'\n",
    "    test_size = 0.2\n",
    "    random_state = 42\n",
    "    learning_rate = 0.1\n",
    "    num_leaves = 31\n",
    "    n_estimators = 10000\n",
    "    feature_fraction = 0.9\n",
    "    stopping_rounds = 50\n",
    "    log_evaluation = 100\n",
    "    objective = 'regression'\n",
    "    metric = 'rmse',\n",
    "    features = [\"MedInc\", \"HouseAge\", \"AveRooms\",\"AveBedrms\", \"Population\", \"AveOccup\", \"Latitude\", \"Longitude\"]\n",
    "\n",
    "# CFGクラスのインスタンスを作成\n",
    "config = CFG()\n",
    "\n",
    "# シード固定\n",
    "def seed_everything(seed: int):\n",
    "    random.seed(seed)\n",
    "    os.environ[\"PYTHONHASHSEED\"] = str(seed)\n",
    "    np.random.seed(seed)\n",
    "\n",
    "seed_everything(config.random_state)"
   ]
  },
  {
   "cell_type": "code",
   "execution_count": 8,
   "id": "0176ec0e",
   "metadata": {},
   "outputs": [
    {
     "data": {
      "text/plain": [
       "{'exp_name': 'example_lightgbm',\n",
       " 'feature_fraction': 0.9,\n",
       " 'features': ['MedInc',\n",
       "  'HouseAge',\n",
       "  'AveRooms',\n",
       "  'AveBedrms',\n",
       "  'Population',\n",
       "  'AveOccup',\n",
       "  'Latitude',\n",
       "  'Longitude'],\n",
       " 'learning_rate': 0.1,\n",
       " 'log_evaluation': 100,\n",
       " 'metric': ('rmse',),\n",
       " 'n_estimators': 10000,\n",
       " 'num_leaves': 31,\n",
       " 'objective': 'regression',\n",
       " 'random_state': 42,\n",
       " 'stopping_rounds': 50,\n",
       " 'test_size': 0.2}"
      ]
     },
     "execution_count": 8,
     "metadata": {},
     "output_type": "execute_result"
    }
   ],
   "source": [
    "# クラスの属性を辞書に変換する関数\n",
    "def class_to_dict(obj):\n",
    "    return {k: getattr(obj, k) for k in dir(obj) if not k.startswith('__') and not callable(getattr(obj, k))}\n",
    "\n",
    "class_to_dict(config)"
   ]
  },
  {
   "cell_type": "code",
   "execution_count": 9,
   "id": "82e4d4e3",
   "metadata": {},
   "outputs": [
    {
     "data": {
      "text/html": [
       "Tracking run with wandb version 0.21.0"
      ],
      "text/plain": [
       "<IPython.core.display.HTML object>"
      ]
     },
     "metadata": {},
     "output_type": "display_data"
    },
    {
     "data": {
      "text/html": [
       "Run data is saved locally in <code>/Users/takuto/Desktop/competition-template/experiments/example/wandb/run-20250721_144311-y8shllxj</code>"
      ],
      "text/plain": [
       "<IPython.core.display.HTML object>"
      ]
     },
     "metadata": {},
     "output_type": "display_data"
    },
    {
     "data": {
      "text/html": [
       "Syncing run <strong><a href='https://wandb.ai/airspace_nobo8/example_lightgbm/runs/y8shllxj' target=\"_blank\">example_lightgbm</a></strong> to <a href='https://wandb.ai/airspace_nobo8/example_lightgbm' target=\"_blank\">Weights & Biases</a> (<a href='https://wandb.me/developer-guide' target=\"_blank\">docs</a>)<br>"
      ],
      "text/plain": [
       "<IPython.core.display.HTML object>"
      ]
     },
     "metadata": {},
     "output_type": "display_data"
    },
    {
     "data": {
      "text/html": [
       " View project at <a href='https://wandb.ai/airspace_nobo8/example_lightgbm' target=\"_blank\">https://wandb.ai/airspace_nobo8/example_lightgbm</a>"
      ],
      "text/plain": [
       "<IPython.core.display.HTML object>"
      ]
     },
     "metadata": {},
     "output_type": "display_data"
    },
    {
     "data": {
      "text/html": [
       " View run at <a href='https://wandb.ai/airspace_nobo8/example_lightgbm/runs/y8shllxj' target=\"_blank\">https://wandb.ai/airspace_nobo8/example_lightgbm/runs/y8shllxj</a>"
      ],
      "text/plain": [
       "<IPython.core.display.HTML object>"
      ]
     },
     "metadata": {},
     "output_type": "display_data"
    },
    {
     "data": {
      "text/html": [
       "<button onClick=\"this.nextSibling.style.display='block';this.style.display='none';\">Display W&B run</button><iframe src='https://wandb.ai/airspace_nobo8/example_lightgbm/runs/y8shllxj?jupyter=true' style='border:none;width:100%;height:420px;display:none;'></iframe>"
      ],
      "text/plain": [
       "<wandb.sdk.wandb_run.Run at 0x133743150>"
      ]
     },
     "execution_count": 9,
     "metadata": {},
     "output_type": "execute_result"
    }
   ],
   "source": [
    "# WandBの初期化\n",
    "wandb.init(\n",
    "    project=\"example_lightgbm\",\n",
    "    config=class_to_dict(config),\n",
    "    name = config.exp_name,\n",
    ")"
   ]
  },
  {
   "cell_type": "code",
   "execution_count": 10,
   "id": "fbf96db2",
   "metadata": {},
   "outputs": [],
   "source": [
    "# データセットを取得\n",
    "data = fetch_california_housing()\n",
    "df = pd.DataFrame(data.data, columns=data.feature_names)\n",
    "y = pd.DataFrame(data.target, columns=data.target_names)\n",
    "X_train, X_test, y_train, y_test = train_test_split(\n",
    "    df[config.features],\n",
    "    y,\n",
    "    test_size=config.test_size,\n",
    "    random_state=config.random_state\n",
    ")"
   ]
  },
  {
   "cell_type": "code",
   "execution_count": 11,
   "id": "6a930875",
   "metadata": {},
   "outputs": [
    {
     "data": {
      "text/plain": [
       "((16512, 8), (4128, 8), (16512, 1), (4128, 1))"
      ]
     },
     "execution_count": 11,
     "metadata": {},
     "output_type": "execute_result"
    }
   ],
   "source": [
    "X_train.shape, X_test.shape, y_train.shape, y_test.shape"
   ]
  },
  {
   "cell_type": "code",
   "execution_count": 13,
   "id": "a08eee66",
   "metadata": {},
   "outputs": [],
   "source": [
    "# LightGBM用のデータセットに変換\n",
    "train_data = lgb.Dataset(X_train, label=y_train)\n",
    "test_data = lgb.Dataset(X_test, label=y_test, reference=train_data)"
   ]
  },
  {
   "cell_type": "code",
   "execution_count": 14,
   "id": "1c7a99fd",
   "metadata": {},
   "outputs": [
    {
     "name": "stdout",
     "output_type": "stream",
     "text": [
      "[LightGBM] [Info] Auto-choosing col-wise multi-threading, the overhead of testing was 0.000371 seconds.\n",
      "You can set `force_col_wise=true` to remove the overhead.\n",
      "[LightGBM] [Info] Total Bins 1838\n",
      "[LightGBM] [Info] Number of data points in the train set: 16512, number of used features: 8\n",
      "[LightGBM] [Info] Start training from score 2.071947\n",
      "Training until validation scores don't improve for 50 rounds\n",
      "[100]\ttraining's rmse: 0.39261\tvalid_1's rmse: 0.461229\n",
      "[200]\ttraining's rmse: 0.339785\tvalid_1's rmse: 0.447667\n",
      "[300]\ttraining's rmse: 0.305127\tvalid_1's rmse: 0.442757\n",
      "[400]\ttraining's rmse: 0.278112\tvalid_1's rmse: 0.439342\n",
      "[500]\ttraining's rmse: 0.255133\tvalid_1's rmse: 0.438417\n",
      "[600]\ttraining's rmse: 0.235924\tvalid_1's rmse: 0.437065\n",
      "Early stopping, best iteration is:\n",
      "[622]\ttraining's rmse: 0.231847\tvalid_1's rmse: 0.436778\n"
     ]
    }
   ],
   "source": [
    "# モデルのパラメータを設定\n",
    "params = {\n",
    "\t'learning_rate': config.learning_rate,\n",
    "\t'num_leaves': config.num_leaves,\n",
    "\t'objective': config.objective,\n",
    "\t'metric': config.metric[0] if isinstance(config.metric, tuple) else config.metric,\n",
    "\t'feature_fraction': config.feature_fraction\n",
    "}\n",
    "\n",
    "# モデルを学習\n",
    "model = lgb.train(\n",
    "\tparams,\n",
    "\ttrain_data,\n",
    "\tnum_boost_round=config.n_estimators,\n",
    "\tcallbacks=[\n",
    "\t\tlgb.early_stopping(stopping_rounds=config.stopping_rounds, verbose=True),\n",
    "\t\tlgb.log_evaluation(config.log_evaluation),\n",
    "\t\twandb_callback()\n",
    "\t],\n",
    "\tvalid_sets=[train_data, test_data],\n",
    ")"
   ]
  },
  {
   "cell_type": "code",
   "execution_count": 20,
   "id": "f418463d",
   "metadata": {},
   "outputs": [
    {
     "name": "stdout",
     "output_type": "stream",
     "text": [
      "RMSE: 0.4367780679358385\n"
     ]
    }
   ],
   "source": [
    "# テストデータで予測\n",
    "y_pred = model.predict(X_test, num_iteration=model.best_iteration)\n",
    "# モデルの評価\n",
    "rmse = np.sqrt(mean_squared_error(y_test, y_pred))\n",
    "print(f\"RMSE: {rmse}\")"
   ]
  },
  {
   "cell_type": "code",
   "execution_count": 21,
   "id": "87b6eecc",
   "metadata": {},
   "outputs": [],
   "source": [
    "# 学習のサマリーをWandBに記録\n",
    "log_summary(model, save_model_checkpoint=True)"
   ]
  },
  {
   "cell_type": "code",
   "execution_count": 22,
   "id": "4d7f3a79",
   "metadata": {},
   "outputs": [
    {
     "name": "stderr",
     "output_type": "stream",
     "text": [
      "\u001b[34m\u001b[1mwandb\u001b[0m: \u001b[32m\u001b[41mERROR\u001b[0m The nbformat package was not found. It is required to save notebook history.\n"
     ]
    },
    {
     "data": {
      "text/html": [],
      "text/plain": [
       "<IPython.core.display.HTML object>"
      ]
     },
     "metadata": {},
     "output_type": "display_data"
    },
    {
     "data": {
      "text/html": [
       "<br>    <style><br>        .wandb-row {<br>            display: flex;<br>            flex-direction: row;<br>            flex-wrap: wrap;<br>            justify-content: flex-start;<br>            width: 100%;<br>        }<br>        .wandb-col {<br>            display: flex;<br>            flex-direction: column;<br>            flex-basis: 100%;<br>            flex: 1;<br>            padding: 10px;<br>        }<br>    </style><br><div class=\"wandb-row\"><div class=\"wandb-col\"><h3>Run history:</h3><br/><table class=\"wandb\"><tr><td>iteration</td><td>▁▁▁▁▁▂▂▂▂▂▂▂▃▃▃▃▃▄▄▄▄▄▄▄▅▅▅▅▆▆▆▇▇▇▇▇▇▇▇█</td></tr><tr><td>training_rmse</td><td>█▅▄▄▄▃▃▃▃▃▃▃▃▃▃▃▂▂▂▂▂▂▂▂▂▂▂▂▂▁▁▁▁▁▁▁▁▁▁▁</td></tr><tr><td>valid_1_rmse</td><td>█▇▆▅▅▄▃▃▃▂▂▂▂▂▂▂▂▂▂▁▁▁▁▁▁▁▁▁▁▁▁▁▁▁▁▁▁▁▁▁</td></tr></table><br/></div><div class=\"wandb-col\"><h3>Run summary:</h3><br/><table class=\"wandb\"><tr><td>best_iteration</td><td>622</td></tr><tr><td>iteration</td><td>671</td></tr></table><br/></div></div>"
      ],
      "text/plain": [
       "<IPython.core.display.HTML object>"
      ]
     },
     "metadata": {},
     "output_type": "display_data"
    },
    {
     "data": {
      "text/html": [
       " View run <strong style=\"color:#cdcd00\">example_lightgbm</strong> at: <a href='https://wandb.ai/airspace_nobo8/example_lightgbm/runs/y8shllxj' target=\"_blank\">https://wandb.ai/airspace_nobo8/example_lightgbm/runs/y8shllxj</a><br> View project at: <a href='https://wandb.ai/airspace_nobo8/example_lightgbm' target=\"_blank\">https://wandb.ai/airspace_nobo8/example_lightgbm</a><br>Synced 5 W&B file(s), 1 media file(s), 4 artifact file(s) and 0 other file(s)"
      ],
      "text/plain": [
       "<IPython.core.display.HTML object>"
      ]
     },
     "metadata": {},
     "output_type": "display_data"
    },
    {
     "data": {
      "text/html": [
       "Find logs at: <code>./wandb/run-20250721_144311-y8shllxj/logs</code>"
      ],
      "text/plain": [
       "<IPython.core.display.HTML object>"
      ]
     },
     "metadata": {},
     "output_type": "display_data"
    }
   ],
   "source": [
    "# 終了\n",
    "wandb.finish()"
   ]
  },
  {
   "cell_type": "code",
   "execution_count": null,
   "id": "63e54ed4",
   "metadata": {},
   "outputs": [],
   "source": []
  }
 ],
 "metadata": {
  "kernelspec": {
   "display_name": "competition-template",
   "language": "python",
   "name": "python3"
  },
  "language_info": {
   "codemirror_mode": {
    "name": "ipython",
    "version": 3
   },
   "file_extension": ".py",
   "mimetype": "text/x-python",
   "name": "python",
   "nbconvert_exporter": "python",
   "pygments_lexer": "ipython3",
   "version": "3.11.9"
  }
 },
 "nbformat": 4,
 "nbformat_minor": 5
}
